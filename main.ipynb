{
 "cells": [
  {
   "cell_type": "code",
   "execution_count": null,
   "metadata": {},
   "outputs": [
    {
     "name": "stdout",
     "output_type": "stream",
     "text": [
      "[3, 11, 34, 38, 39, 44, 45, 46, 47, 52, 56, 57, 60, 68, 75, 89, 90, 92, 93, 100]\n",
      "[15, 82, 100, 81, 65, 97, 32, 47, 93, 78, 80, 99, 60, 67, 8, 91, 79, 51, 14, 94]\n",
      "45\n",
      "60\n"
     ]
    },
    {
     "data": {
      "image/png": "[encoded data removed]",
      "text/plain": [
       "<Figure size 432x288 with 1 Axes>"
      ]
     },
     "metadata": {},
     "output_type": "display_data"
    }
   ],
   "source": [
    "%matplotlib inline\n",
    "import random\n",
    "import matplotlib.pyplot as plt\n",
    "import time\n",
    "\n",
    "# declarações\n",
    "size = 20\n",
    "x = []\n",
    "time_sequential = []\n",
    "time_binary = []\n",
    "\n",
    "# comandos iniciais\n",
    "for i in range(1, size+1):\n",
    "    x.append(i)\n",
    "\n",
    "#  funções\n",
    "def gen_random_list():\n",
    "    return random.sample(range(1, 101), size)\n",
    "\n",
    "def gen_order_list():\n",
    "    list = random.sample(range(1, 101), size)    #creating a list in range 0 to 100\n",
    "    list.sort()    # ordering\n",
    "    return list\n",
    "\n",
    "def get_random_number():\n",
    "    return random.randint(1,101)\n",
    "\n",
    "def sequential_search(number):\n",
    "    for k in range(0,len(list_numbers_any),1):\n",
    "        if(number == list_numbers_any[k]): return k\n",
    "    return -1   \n",
    "\n",
    "def binary_search(number):\n",
    "    less = 0\n",
    "    high = len(list_numbers_order) - 1\n",
    "    update = 0\n",
    "    while(less <= high):\n",
    "        update = (less + high) // 2 \n",
    "        if(number < list_numbers_order[update]):\n",
    "            high =update\n",
    "        elif(number > list_numbers_order[update]):\n",
    "            less = update\n",
    "        else:\n",
    "            return update\n",
    "\n",
    "def gen_graph(list, title='plot of points'):\n",
    "    plt.cla()\n",
    "    plt.clf()\n",
    "    #plt.close()\n",
    "    plt.title(title)\n",
    "    plt.xlabel('x')\n",
    "    plt.ylabel('points')\n",
    "    plt.plot( x , list , 'ro')\n",
    "    plt.show()\n",
    "    \n",
    "def average_vector(vet):\n",
    "    add = 0\n",
    "    for i in range(0, len(vet), 1):\n",
    "        add += vet[i]\n",
    "    return add\n",
    "\n",
    "\n",
    "# main\n",
    "list_numbers_any = gen_random_list()\n",
    "list_numbers_order = gen_order_list()\n",
    "\n",
    "print(list_numbers_order)\n",
    "print(list_numbers_any)\n",
    "\n",
    "search_number_order = random.choice(list_numbers_order)\n",
    "print(search_number_order)\n",
    "search_number_any = random.choice(list_numbers_any)\n",
    "print(search_number_any)\n",
    "gen_graph(list_numbers_order)\n",
    "gen_graph(list_numbers_any)\n",
    "\n",
    "for it in range(0,20,1):\n",
    "    start_s = time.time()\n",
    "    sequential_search(search_number_any)\n",
    "    finish_s = time.time()\n",
    "    time_sequential.append(finish_s - start_s)\n",
    "\n",
    "    \n",
    "for it in range(0,20,1):\n",
    "    start_s = time.time()\n",
    "    binary_search( search_number_order)\n",
    "    finish_s = time.time()\n",
    "    time_binary.append(finish_s - start_s)\n",
    "\n",
    "\n",
    "time_1 = average_vector(time_binary)\n",
    "time_2 = average_vector(time_sequential)\n",
    "\n",
    "print(\"O tempo medio da binaria binario é: \", time_1)\n",
    "print(\"O tempo medio da busca sequencial é: \",time_2)"
   ]
  },
  {
   "cell_type": "code",
   "execution_count": null,
   "metadata": {},
   "outputs": [],
   "source": []
  },
  {
   "cell_type": "code",
   "execution_count": null,
   "metadata": {},
   "outputs": [],
   "source": []
  }
 ],
 "metadata": {
  "kernelspec": {
   "display_name": "Python 3",
   "language": "python",
   "name": "python3"
  },
  "language_info": {
   "codemirror_mode": {
    "name": "ipython",
    "version": 3
   },
   "file_extension": ".py",
   "mimetype": "text/x-python",
   "name": "python",
   "nbconvert_exporter": "python",
   "pygments_lexer": "ipython3",
   "version": "3.5.2"
  }
 },
 "nbformat": 4,
 "nbformat_minor": 2
}
